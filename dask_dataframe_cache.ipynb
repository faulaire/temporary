{
 "cells": [
  {
   "cell_type": "code",
   "execution_count": null,
   "id": "434e5531",
   "metadata": {},
   "outputs": [],
   "source": [
    "import dask.dataframe as dd\n",
    "from dask.highlevelgraph import HighLevelGraph\n",
    "from dask.dataframe.core import new_dd_object\n",
    "import pandas as pd\n",
    "import datetime\n",
    "import os\n",
    "from pathlib import Path\n",
    "import glob"
   ]
  },
  {
   "cell_type": "code",
   "execution_count": null,
   "id": "c5724f95",
   "metadata": {},
   "outputs": [],
   "source": [
    "output_path = './out'\n",
    "os.makedirs(output_path, exist_ok=True)"
   ]
  },
  {
   "cell_type": "code",
   "execution_count": null,
   "id": "408bb44a",
   "metadata": {},
   "outputs": [],
   "source": [
    "iris = pd.read_csv('https://raw.githubusercontent.com/mwaskom/seaborn-data/master/iris.csv')\n",
    "iris['petal_product'] = iris['petal_length'] * iris['petal_width']\n",
    "iris.index = pd.DatetimeIndex(pd.date_range(start=datetime.date(2000, 1, 1), periods=150), name='trading_date')\n",
    "iris.columns = pd.MultiIndex.from_product([['grp1', 'grp2'], ['a', 'b', 'c']])\n",
    "iris.columns.names = ['toto', 'tata']\n",
    "iris"
   ]
  },
  {
   "cell_type": "code",
   "execution_count": null,
   "id": "b847804c",
   "metadata": {},
   "outputs": [],
   "source": [
    "dask_df = dd.from_pandas(iris, npartitions=5)\n",
    "dask_df"
   ]
  },
  {
   "cell_type": "code",
   "execution_count": null,
   "id": "840cde8f",
   "metadata": {},
   "outputs": [],
   "source": [
    "def to_partitioned_parquet(dask_df, path):\n",
    "    pd.to_pickle(dask_df._meta, Path(path) / 'meta.pickle')\n",
    "    pd.to_pickle(dask_df.divisions, Path(path) / 'divisions.pickle')\n",
    "    \n",
    "    def dump_partition(df, partition_info):\n",
    "        partition_number = partition_info['number'] \n",
    "        if partition_number != -1:\n",
    "            df.to_parquet( Path(path) / f'df_{partition_number}.parquet')\n",
    "        return df\n",
    "    \n",
    "    return dd.map_partitions(dump_partition, dask_df)"
   ]
  },
  {
   "cell_type": "code",
   "execution_count": null,
   "id": "c834764c",
   "metadata": {},
   "outputs": [],
   "source": [
    "res = to_partitioned_parquet(dask_df, output_path).compute()"
   ]
  },
  {
   "cell_type": "code",
   "execution_count": null,
   "id": "813a92de",
   "metadata": {},
   "outputs": [],
   "source": [
    "res"
   ]
  },
  {
   "cell_type": "code",
   "execution_count": null,
   "id": "4e707754",
   "metadata": {},
   "outputs": [],
   "source": [
    "def from_partitioned_parquet(path):\n",
    "    meta = pd.read_pickle(Path(path) / 'meta.pickle')\n",
    "    divisions = pd.read_pickle(Path(path) / 'divisions.pickle')\n",
    "    \n",
    "    layer = {('read-csv', i): (pd.read_parquet, path)\n",
    "             for i, path in enumerate(sorted(glob.glob('./out/*.parquet')))}\n",
    "\n",
    "    graph = HighLevelGraph({'read-csv': layer},\n",
    "                           {'read-csv': set()})\n",
    "    return new_dd_object(graph, name='read-csv', meta=meta, divisions=divisions)"
   ]
  },
  {
   "cell_type": "code",
   "execution_count": null,
   "id": "48ebc009",
   "metadata": {},
   "outputs": [],
   "source": [
    "toto = from_partitioned_parquet('./out/')\n",
    "toto "
   ]
  },
  {
   "cell_type": "code",
   "execution_count": null,
   "id": "5a90ac19",
   "metadata": {},
   "outputs": [],
   "source": [
    "toto.compute()"
   ]
  }
 ],
 "metadata": {
  "kernelspec": {
   "display_name": "Python 3 (ipykernel)",
   "language": "python",
   "name": "python3"
  },
  "language_info": {
   "codemirror_mode": {
    "name": "ipython",
    "version": 3
   },
   "file_extension": ".py",
   "mimetype": "text/x-python",
   "name": "python",
   "nbconvert_exporter": "python",
   "pygments_lexer": "ipython3",
   "version": "3.8.12"
  }
 },
 "nbformat": 4,
 "nbformat_minor": 5
}
